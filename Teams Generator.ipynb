{
 "cells": [
  {
   "cell_type": "code",
   "execution_count": null,
   "id": "a0736dc2",
   "metadata": {},
   "outputs": [],
   "source": [
    "import pandas as pd\n",
    "from random import randrange\n",
    "import numpy as np"
   ]
  },
  {
   "cell_type": "code",
   "execution_count": 1,
   "id": "4c14c8df",
   "metadata": {},
   "outputs": [],
   "source": [
    "players_dict = {'diego':5,'oren shemesh':5,'eminio':5,'asanko':5,  \n",
    "                \n",
    "            'or zion':4,'shay zaafani':4,'laka':4,'asmalash':4,\n",
    "                \n",
    "            'mordechai amar':3,'gal':3,'mordechai amami':3,'shalom alevi':3,\n",
    "                \n",
    "             'rotem ovad':2,'avi pakdo':2,'beni machluf':2,'jonh sharabni':2,\n",
    "                \n",
    "             'erez':1,'ori biri':1,'eran azulai':1,'avi dabach':1}"
   ]
  },
  {
   "cell_type": "code",
   "execution_count": 107,
   "id": "0d84c050",
   "metadata": {},
   "outputs": [],
   "source": [
    "players_dict = {'diego':89,'oren shemesh':95,'eminio':87,'asanko':86,  # 85-100\n",
    "                \n",
    "            'zion':74,'shay zaafani':78,'laka':82,'asmalash':79,  #75-84\n",
    "                \n",
    "            'mordechai':66,'gal':73,'mordechai amami':69,'16':68, #65-74\n",
    "                \n",
    "             'rotem ovad':56,'dor bazon':58,'17':62,'18':60, #56-64\n",
    "                \n",
    "             'erez':40,'ori biri':47,'19':38,'20':50} #0-55"
   ]
  },
  {
   "cell_type": "code",
   "execution_count": 3,
   "id": "6515e2d7",
   "metadata": {
    "scrolled": true
   },
   "outputs": [
    {
     "data": {
      "text/html": [
       "<div>\n",
       "<style scoped>\n",
       "    .dataframe tbody tr th:only-of-type {\n",
       "        vertical-align: middle;\n",
       "    }\n",
       "\n",
       "    .dataframe tbody tr th {\n",
       "        vertical-align: top;\n",
       "    }\n",
       "\n",
       "    .dataframe thead th {\n",
       "        text-align: right;\n",
       "    }\n",
       "</style>\n",
       "<table border=\"1\" class=\"dataframe\">\n",
       "  <thead>\n",
       "    <tr style=\"text-align: right;\">\n",
       "      <th></th>\n",
       "      <th>name</th>\n",
       "      <th>ranking</th>\n",
       "    </tr>\n",
       "  </thead>\n",
       "  <tbody>\n",
       "    <tr>\n",
       "      <th>0</th>\n",
       "      <td>diego</td>\n",
       "      <td>5</td>\n",
       "    </tr>\n",
       "    <tr>\n",
       "      <th>1</th>\n",
       "      <td>oren shemesh</td>\n",
       "      <td>5</td>\n",
       "    </tr>\n",
       "    <tr>\n",
       "      <th>2</th>\n",
       "      <td>eminio</td>\n",
       "      <td>5</td>\n",
       "    </tr>\n",
       "    <tr>\n",
       "      <th>3</th>\n",
       "      <td>asanko</td>\n",
       "      <td>5</td>\n",
       "    </tr>\n",
       "    <tr>\n",
       "      <th>4</th>\n",
       "      <td>or zion</td>\n",
       "      <td>4</td>\n",
       "    </tr>\n",
       "    <tr>\n",
       "      <th>5</th>\n",
       "      <td>shay zaafani</td>\n",
       "      <td>4</td>\n",
       "    </tr>\n",
       "    <tr>\n",
       "      <th>6</th>\n",
       "      <td>laka</td>\n",
       "      <td>4</td>\n",
       "    </tr>\n",
       "    <tr>\n",
       "      <th>7</th>\n",
       "      <td>asmalash</td>\n",
       "      <td>4</td>\n",
       "    </tr>\n",
       "    <tr>\n",
       "      <th>8</th>\n",
       "      <td>mordechai amar</td>\n",
       "      <td>3</td>\n",
       "    </tr>\n",
       "    <tr>\n",
       "      <th>9</th>\n",
       "      <td>gal</td>\n",
       "      <td>3</td>\n",
       "    </tr>\n",
       "    <tr>\n",
       "      <th>10</th>\n",
       "      <td>mordechai amami</td>\n",
       "      <td>3</td>\n",
       "    </tr>\n",
       "    <tr>\n",
       "      <th>11</th>\n",
       "      <td>shalom alevi</td>\n",
       "      <td>3</td>\n",
       "    </tr>\n",
       "    <tr>\n",
       "      <th>12</th>\n",
       "      <td>rotem ovad</td>\n",
       "      <td>2</td>\n",
       "    </tr>\n",
       "    <tr>\n",
       "      <th>13</th>\n",
       "      <td>avi pakdo</td>\n",
       "      <td>2</td>\n",
       "    </tr>\n",
       "    <tr>\n",
       "      <th>14</th>\n",
       "      <td>beni machluf</td>\n",
       "      <td>2</td>\n",
       "    </tr>\n",
       "    <tr>\n",
       "      <th>15</th>\n",
       "      <td>jonh sharabni</td>\n",
       "      <td>2</td>\n",
       "    </tr>\n",
       "    <tr>\n",
       "      <th>16</th>\n",
       "      <td>erez</td>\n",
       "      <td>1</td>\n",
       "    </tr>\n",
       "    <tr>\n",
       "      <th>17</th>\n",
       "      <td>ori biri</td>\n",
       "      <td>1</td>\n",
       "    </tr>\n",
       "    <tr>\n",
       "      <th>18</th>\n",
       "      <td>eran azulai</td>\n",
       "      <td>1</td>\n",
       "    </tr>\n",
       "    <tr>\n",
       "      <th>19</th>\n",
       "      <td>avi dabach</td>\n",
       "      <td>1</td>\n",
       "    </tr>\n",
       "  </tbody>\n",
       "</table>\n",
       "</div>"
      ],
      "text/plain": [
       "               name  ranking\n",
       "0             diego        5\n",
       "1      oren shemesh        5\n",
       "2            eminio        5\n",
       "3            asanko        5\n",
       "4           or zion        4\n",
       "5      shay zaafani        4\n",
       "6              laka        4\n",
       "7          asmalash        4\n",
       "8    mordechai amar        3\n",
       "9               gal        3\n",
       "10  mordechai amami        3\n",
       "11     shalom alevi        3\n",
       "12       rotem ovad        2\n",
       "13        avi pakdo        2\n",
       "14     beni machluf        2\n",
       "15    jonh sharabni        2\n",
       "16             erez        1\n",
       "17         ori biri        1\n",
       "18      eran azulai        1\n",
       "19       avi dabach        1"
      ]
     },
     "execution_count": 3,
     "metadata": {},
     "output_type": "execute_result"
    }
   ],
   "source": [
    "players = pd.DataFrame(players_dict.items(), columns=['name','ranking'])\n",
    "players"
   ]
  },
  {
   "cell_type": "code",
   "execution_count": 103,
   "id": "fe60c5e1",
   "metadata": {},
   "outputs": [
    {
     "data": {
      "text/plain": [
       "5"
      ]
     },
     "execution_count": 103,
     "metadata": {},
     "output_type": "execute_result"
    }
   ],
   "source": [
    "players2[players2['name']=='diego'].ranking.item()"
   ]
  },
  {
   "cell_type": "code",
   "execution_count": 11,
   "id": "0dbcbe23",
   "metadata": {},
   "outputs": [
    {
     "name": "stdout",
     "output_type": "stream",
     "text": [
      "\n",
      " team 1\n",
      "5 - asanko\n",
      "4 - or zion\n",
      "3 - shalom alevi\n",
      "2 - rotem ovad\n",
      "1 - ori biri\n",
      "\n",
      " team 2\n",
      "5 - eminio\n",
      "4 - asmalash\n",
      "3 - gal\n",
      "2 - avi pakdo\n",
      "1 - avi dabach\n",
      "\n",
      " team 3\n",
      "5 - oren shemesh\n",
      "4 - laka\n",
      "3 - mordechai amami\n",
      "2 - beni machluf\n",
      "1 - eran azulai\n",
      "\n",
      " team 4\n",
      "5 - diego\n",
      "4 - shay zaafani\n",
      "3 - mordechai amar\n",
      "2 - jonh sharabni\n",
      "1 - erez\n"
     ]
    }
   ],
   "source": [
    "#random.seed(a=None, version=2)\n",
    "\n",
    "players2 = players.copy()\n",
    "levels = [5,4,3,2,1]\n",
    "teams = [[],[],[],[]]\n",
    "n = 1\n",
    "\n",
    "\n",
    "for i in teams:\n",
    "    print('\\n','team',n)\n",
    "    n = n+1\n",
    "    for l in levels:\n",
    "        level_group = players2[players2['ranking']==l].name\n",
    "        chosen = np.random.choice(level_group)\n",
    "        print(players2[players2['name']==chosen].ranking.item(),'-',chosen)\n",
    "        i.append(chosen)\n",
    "        players2.drop(players2.index[players2['name'] == chosen], inplace = True)"
   ]
  },
  {
   "cell_type": "code",
   "execution_count": 7,
   "id": "a0a8db12",
   "metadata": {
    "scrolled": true
   },
   "outputs": [
    {
     "name": "stdout",
     "output_type": "stream",
     "text": [
      "['oren shemesh', 'shay zaafani', 'shalom alevi', 'jonh sharabni', 'erez'] \n",
      "\n",
      "['eminio', 'laka', 'mordechai amar', 'rotem ovad', 'eran azulai'] \n",
      "\n",
      "['asanko', 'asmalash', 'mordechai amami', 'avi pakdo', 'ori biri'] \n",
      "\n",
      "['diego', 'or zion', 'gal', 'beni machluf', 'avi dabach'] \n",
      "\n"
     ]
    }
   ],
   "source": [
    "for a in range(0,4):\n",
    "    print(teams[a],'\\n')"
   ]
  },
  {
   "cell_type": "code",
   "execution_count": null,
   "id": "0716a1d9",
   "metadata": {},
   "outputs": [],
   "source": []
  }
 ],
 "metadata": {
  "kernelspec": {
   "display_name": "Python 3",
   "language": "python",
   "name": "python3"
  },
  "language_info": {
   "codemirror_mode": {
    "name": "ipython",
    "version": 3
   },
   "file_extension": ".py",
   "mimetype": "text/x-python",
   "name": "python",
   "nbconvert_exporter": "python",
   "pygments_lexer": "ipython3",
   "version": "3.8.8"
  }
 },
 "nbformat": 4,
 "nbformat_minor": 5
}
